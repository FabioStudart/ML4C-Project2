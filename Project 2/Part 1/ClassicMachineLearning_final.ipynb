{
 "cells": [
  {
   "cell_type": "code",
   "execution_count": 6,
   "metadata": {},
   "outputs": [],
   "source": [
    "import numpy as np\n",
    "import pandas as pd\n",
    "import matplotlib.pyplot as plt\n",
    "import seaborn as sns\n",
    "\n",
    "from sklearn.ensemble import RandomForestClassifier\n",
    "from sklearn.neural_network import MLPClassifier\n",
    "from sklearn.neighbors import KNeighborsClassifier\n",
    "from sklearn.naive_bayes import GaussianNB\n",
    "\n",
    "from sklearn.metrics import roc_curve, roc_auc_score, precision_recall_curve, auc, f1_score, balanced_accuracy_score\n",
    "\n",
    "from tsfresh import extract_features, select_features\n",
    "from tsfresh.utilities.dataframe_functions import impute"
   ]
  },
  {
   "cell_type": "code",
   "execution_count": 7,
   "metadata": {},
   "outputs": [],
   "source": [
    "# Function to extract the performance metrics\n",
    "def performance_metrics(y_test,y_pred):\n",
    "    fpr, tpr, thresh = roc_curve(y_test, y_pred)\n",
    "    roc_auc = round(roc_auc_score(y_test, y_pred),4)\n",
    "\n",
    "    #calculate optimal roc auc threshold\n",
    "    optimal_idx = np.argmax(tpr - fpr)\n",
    "    optimal_threshold = thresh[optimal_idx]\n",
    "    y_optimal = y_pred>optimal_threshold\n",
    "\n",
    "    #compute f1 score, precision recall AUC, balanced accuracy\n",
    "    precision, recall, _ = precision_recall_curve(y_test, y_pred)\n",
    "    pr_auc = auc(recall, precision)\n",
    "\n",
    "    f1 = f1_score(y_test, y_optimal)\n",
    "    balanced_accuracy =balanced_accuracy_score(y_test, y_optimal)\n",
    "    return f1, pr_auc, balanced_accuracy, roc_auc"
   ]
  },
  {
   "cell_type": "code",
   "execution_count": null,
   "metadata": {},
   "outputs": [
    {
     "name": "stdout",
     "output_type": "stream",
     "text": [
      "Train data shape: (11641, 187)\n",
      "Test data shape: (2911, 187)\n"
     ]
    }
   ],
   "source": [
    "# Import the data\n",
    "df_train = pd.read_csv('ptbdb_train.csv', header=None)\n",
    "df_test = pd.read_csv('ptbdb_test.csv', header=None)\n",
    "\n",
    "# Separate last column as target for train data\n",
    "data_matrix_train = df_train.values\n",
    "y_train = data_matrix_train[:,-1]\n",
    "X_train = data_matrix_train[:,0:-1]\n",
    "\n",
    "# Separate last column as target for test data\n",
    "data_matrix_test = df_test.values\n",
    "y_test = data_matrix_test[:,-1]\n",
    "X_test = data_matrix_test[:,0:-1]\n",
    "\n",
    "print('Train data shape:', X_train.shape)\n",
    "print('Test data shape:', X_test.shape)"
   ]
  },
  {
   "cell_type": "code",
   "execution_count": 5,
   "metadata": {},
   "outputs": [],
   "source": [
    "# Seed for reproducibility\n",
    "random_seed = 13\n",
    "np.random.seed(random_seed)"
   ]
  },
  {
   "cell_type": "code",
   "execution_count": null,
   "metadata": {},
   "outputs": [],
   "source": [
    "# Task (1)\n",
    "\n",
    "# Train random forest classifier\n",
    "rf = RandomForestClassifier(n_estimators=100, random_state=random_seed)\n",
    "rf.fit(X_train, y_train)\n",
    "\n",
    "# Train MLP classifier\n",
    "mlp = MLPClassifier(hidden_layer_sizes=(100,100), random_state=random_seed)\n",
    "mlp.fit(X_train, y_train)\n",
    "\n",
    "# Train kNN classifier\n",
    "knn = KNeighborsClassifier(n_neighbors=5)\n",
    "knn.fit(X_train, y_train)\n",
    "\n",
    "# Train naive bayes classifier\n",
    "nb = GaussianNB()\n",
    "nb.fit(X_train, y_train)\n",
    "\n",
    "# Predict probabilities for each classifier\n",
    "y_pred_rf = rf.predict_proba(X_test)[:,1]\n",
    "y_pred_mlp = mlp.predict_proba(X_test)[:,1]\n",
    "y_pred_knn = knn.predict_proba(X_test)[:,1]\n",
    "y_pred_nb = nb.predict_proba(X_test)[:,1]"
   ]
  },
  {
   "cell_type": "code",
   "execution_count": null,
   "metadata": {},
   "outputs": [
    {
     "name": "stdout",
     "output_type": "stream",
     "text": [
      "Model: RandomForestClassifier\n",
      "F1 score: 0.9772\n",
      "PR AUC: 0.9973\n",
      "Balanced accuracy: 0.9660\n",
      "ROC AUC: 0.9937\n",
      "------------------------\n",
      "Model: MLPClassifier\n",
      "F1 score: 0.9768\n",
      "PR AUC: 0.9939\n",
      "Balanced accuracy: 0.9621\n",
      "ROC AUC: 0.9871\n",
      "------------------------\n",
      "Model: KNeighborsClassifier\n",
      "F1 score: 0.8903\n",
      "PR AUC: 0.9911\n",
      "Balanced accuracy: 0.8978\n",
      "ROC AUC: 0.9764\n",
      "------------------------\n",
      "Model: GaussianNB\n",
      "F1 score: 0.7926\n",
      "PR AUC: 0.8904\n",
      "Balanced accuracy: 0.7049\n",
      "ROC AUC: 0.7585\n",
      "------------------------\n"
     ]
    }
   ],
   "source": [
    "models = [rf, mlp, knn, nb]\n",
    "y_preds = [y_pred_rf, y_pred_mlp, y_pred_knn, y_pred_nb]\n",
    "\n",
    "for model, y_pred in zip(models, y_preds):\n",
    "    f1, pr_auc, balanced_accuracy, roc_auc = performance_metrics(y_test, y_pred)\n",
    "    \n",
    "    print(f'Model: {model.__class__.__name__}')\n",
    "    print(f'F1 score: {f1:.4f}')\n",
    "    print(f'PR AUC: {pr_auc:.4f}')\n",
    "    print(f'Balanced accuracy: {balanced_accuracy:.4f}')\n",
    "    print(f'ROC AUC: {roc_auc:.4f}')\n",
    "    print('------------------------')"
   ]
  },
  {
   "cell_type": "code",
   "execution_count": 2,
   "metadata": {},
   "outputs": [
    {
     "ename": "NameError",
     "evalue": "name 'y_test' is not defined",
     "output_type": "error",
     "traceback": [
      "\u001b[0;31m---------------------------------------------------------------------------\u001b[0m",
      "\u001b[0;31mNameError\u001b[0m                                 Traceback (most recent call last)",
      "Cell \u001b[0;32mIn[2], line 2\u001b[0m\n\u001b[1;32m      1\u001b[0m \u001b[38;5;66;03m# Calculate ROC-AUC for each classifier\u001b[39;00m\n\u001b[0;32m----> 2\u001b[0m roc_auc_rf \u001b[38;5;241m=\u001b[39m roc_auc_score(\u001b[43my_test\u001b[49m, y_pred_rf)\n\u001b[1;32m      3\u001b[0m roc_auc_mlp \u001b[38;5;241m=\u001b[39m roc_auc_score(y_test, y_pred_mlp)\n\u001b[1;32m      4\u001b[0m roc_auc_knn \u001b[38;5;241m=\u001b[39m roc_auc_score(y_test, y_pred_knn)\n",
      "\u001b[0;31mNameError\u001b[0m: name 'y_test' is not defined"
     ]
    }
   ],
   "source": [
    "# Calculate ROC-AUC for each classifier\n",
    "roc_auc_rf = roc_auc_score(y_test, y_pred_rf)\n",
    "roc_auc_mlp = roc_auc_score(y_test, y_pred_mlp)\n",
    "roc_auc_knn = roc_auc_score(y_test, y_pred_knn)\n",
    "roc_auc_nb = roc_auc_score(y_test, y_pred_nb)\n",
    "\n",
    "#Calculate ROC curves for each classifier\n",
    "fpr_rf, tpr_rf, _ = roc_curve(y_test, y_pred_rf)\n",
    "fpr_mlp, tpr_mlp, _ = roc_curve(y_test, y_pred_mlp)\n",
    "fpr_knn, tpr_knn, _ = roc_curve(y_test, y_pred_knn)\n",
    "fpr_nb, tpr_nb, _ = roc_curve(y_test, y_pred_nb)\n",
    "\n",
    "#plot ROC curves\n",
    "plt.figure()\n",
    "plt.plot(fpr_rf, tpr_rf, label='Random Forest (area = %0.4f)' % roc_auc_rf)\n",
    "plt.plot(fpr_mlp, tpr_mlp, label='MLP (area = %0.4f)' % roc_auc_mlp)\n",
    "plt.plot(fpr_knn, tpr_knn, label='kNN (area = %0.4f)' % roc_auc_knn)\n",
    "plt.plot(fpr_nb, tpr_nb, label='Naive Bayes (area = %0.4f)' % roc_auc_nb)\n",
    "plt.plot([0, 1], [0, 1],'r--')\n",
    "plt.xlim([0.0, 1.0])\n",
    "plt.ylim([0.0, 1.05])\n",
    "plt.xlabel('False Positive Rate')\n",
    "plt.ylabel('True Positive Rate')\n",
    "plt.title('Receiver Operating Characteristic')\n",
    "plt.legend(loc=\"lower right\")\n",
    "plt.show()"
   ]
  },
  {
   "cell_type": "code",
   "execution_count": 8,
   "metadata": {},
   "outputs": [],
   "source": [
    "#Task (2): Add features to time-series\n",
    "\n",
    "# Create a time-series dataframe with train dataset\n",
    "df_train = pd.read_csv('ptbdb_train.csv', header=None)\n",
    "X_train = df_train.iloc[:, :-1]\n",
    "y_train = df_train.iloc[:, -1]\n",
    "melted_df = X_train.melt(var_name='time', value_name='values')\n",
    "melted_df['id'] = melted_df.groupby('time').cumcount()\n",
    "timeseries = melted_df[['id', 'time', 'values']]\n",
    "\n",
    "y = pd.DataFrame({'id': range(len(y_train)), 'lbl': y_train})\n",
    "y_series = y['lbl']\n"
   ]
  },
  {
   "cell_type": "code",
   "execution_count": 9,
   "metadata": {},
   "outputs": [
    {
     "name": "stderr",
     "output_type": "stream",
     "text": [
      "Feature Extraction:  25%|██▌       | 5/20 [06:56<22:59, 91.96s/it]   "
     ]
    },
    {
     "ename": "",
     "evalue": "",
     "output_type": "error",
     "traceback": [
      "\u001b[1;31mThe Kernel crashed while executing code in the current cell or a previous cell. \n",
      "\u001b[1;31mPlease review the code in the cell(s) to identify a possible cause of the failure. \n",
      "\u001b[1;31mClick <a href='https://aka.ms/vscodeJupyterKernelCrash'>here</a> for more info. \n",
      "\u001b[1;31mView Jupyter <a href='command:jupyter.viewOutput'>log</a> for further details."
     ]
    }
   ],
   "source": [
    "extracted_features = extract_features(timeseries, column_id=\"id\", column_sort=\"time\")\n",
    "print('Extracted_features shape:', extracted_features.shape)"
   ]
  },
  {
   "cell_type": "code",
   "execution_count": null,
   "metadata": {},
   "outputs": [
    {
     "name": "stderr",
     "output_type": "stream",
     "text": [
      "c:\\Users\\lucia\\anaconda3\\envs\\mlhc\\Lib\\site-packages\\tsfresh\\utilities\\dataframe_functions.py:198: RuntimeWarning: The columns ['values__fft_coefficient__attr_\"real\"__coeff_94'\n",
      " 'values__fft_coefficient__attr_\"real\"__coeff_95'\n",
      " 'values__fft_coefficient__attr_\"real\"__coeff_96'\n",
      " 'values__fft_coefficient__attr_\"real\"__coeff_97'\n",
      " 'values__fft_coefficient__attr_\"real\"__coeff_98'\n",
      " 'values__fft_coefficient__attr_\"real\"__coeff_99'\n",
      " 'values__fft_coefficient__attr_\"imag\"__coeff_94'\n",
      " 'values__fft_coefficient__attr_\"imag\"__coeff_95'\n",
      " 'values__fft_coefficient__attr_\"imag\"__coeff_96'\n",
      " 'values__fft_coefficient__attr_\"imag\"__coeff_97'\n",
      " 'values__fft_coefficient__attr_\"imag\"__coeff_98'\n",
      " 'values__fft_coefficient__attr_\"imag\"__coeff_99'\n",
      " 'values__fft_coefficient__attr_\"abs\"__coeff_94'\n",
      " 'values__fft_coefficient__attr_\"abs\"__coeff_95'\n",
      " 'values__fft_coefficient__attr_\"abs\"__coeff_96'\n",
      " 'values__fft_coefficient__attr_\"abs\"__coeff_97'\n",
      " 'values__fft_coefficient__attr_\"abs\"__coeff_98'\n",
      " 'values__fft_coefficient__attr_\"abs\"__coeff_99'\n",
      " 'values__fft_coefficient__attr_\"angle\"__coeff_94'\n",
      " 'values__fft_coefficient__attr_\"angle\"__coeff_95'\n",
      " 'values__fft_coefficient__attr_\"angle\"__coeff_96'\n",
      " 'values__fft_coefficient__attr_\"angle\"__coeff_97'\n",
      " 'values__fft_coefficient__attr_\"angle\"__coeff_98'\n",
      " 'values__fft_coefficient__attr_\"angle\"__coeff_99'\n",
      " 'values__query_similarity_count__query_None__threshold_0.0'] did not have any finite values. Filling with zeros.\n",
      "  warnings.warn(\n"
     ]
    }
   ],
   "source": [
    "# Filter features by importance\n",
    "impute(extracted_features)\n",
    "features_filtered = select_features(extracted_features, y_series)"
   ]
  },
  {
   "cell_type": "code",
   "execution_count": 24,
   "metadata": {},
   "outputs": [
    {
     "name": "stdout",
     "output_type": "stream",
     "text": [
      "(11641, 782) (11641,)\n"
     ]
    }
   ],
   "source": [
    "# X_train_features is features_filtered concatenated to X_train\n",
    "X_train_features = pd.concat([X_train, features_filtered], axis=1)\n",
    "X_train_features.columns = range(X_train_features.shape[1])\n",
    "y_train_features = y_train\n",
    "\n",
    "print(X_train_features.shape, y_train_features.shape)\n",
    "\n",
    "#normalize X_test_features by column with minmax\n",
    "for column in X_train_features.columns:\n",
    "    X_train_features[column] = (X_train_features[column] - X_train_features[column].min()) / (X_train_features[column].max() - X_train_features[column].min() + 1e-6)"
   ]
  },
  {
   "cell_type": "code",
   "execution_count": 25,
   "metadata": {},
   "outputs": [
    {
     "data": {
      "text/html": [
       "<style>#sk-container-id-1 {color: black;}#sk-container-id-1 pre{padding: 0;}#sk-container-id-1 div.sk-toggleable {background-color: white;}#sk-container-id-1 label.sk-toggleable__label {cursor: pointer;display: block;width: 100%;margin-bottom: 0;padding: 0.3em;box-sizing: border-box;text-align: center;}#sk-container-id-1 label.sk-toggleable__label-arrow:before {content: \"▸\";float: left;margin-right: 0.25em;color: #696969;}#sk-container-id-1 label.sk-toggleable__label-arrow:hover:before {color: black;}#sk-container-id-1 div.sk-estimator:hover label.sk-toggleable__label-arrow:before {color: black;}#sk-container-id-1 div.sk-toggleable__content {max-height: 0;max-width: 0;overflow: hidden;text-align: left;background-color: #f0f8ff;}#sk-container-id-1 div.sk-toggleable__content pre {margin: 0.2em;color: black;border-radius: 0.25em;background-color: #f0f8ff;}#sk-container-id-1 input.sk-toggleable__control:checked~div.sk-toggleable__content {max-height: 200px;max-width: 100%;overflow: auto;}#sk-container-id-1 input.sk-toggleable__control:checked~label.sk-toggleable__label-arrow:before {content: \"▾\";}#sk-container-id-1 div.sk-estimator input.sk-toggleable__control:checked~label.sk-toggleable__label {background-color: #d4ebff;}#sk-container-id-1 div.sk-label input.sk-toggleable__control:checked~label.sk-toggleable__label {background-color: #d4ebff;}#sk-container-id-1 input.sk-hidden--visually {border: 0;clip: rect(1px 1px 1px 1px);clip: rect(1px, 1px, 1px, 1px);height: 1px;margin: -1px;overflow: hidden;padding: 0;position: absolute;width: 1px;}#sk-container-id-1 div.sk-estimator {font-family: monospace;background-color: #f0f8ff;border: 1px dotted black;border-radius: 0.25em;box-sizing: border-box;margin-bottom: 0.5em;}#sk-container-id-1 div.sk-estimator:hover {background-color: #d4ebff;}#sk-container-id-1 div.sk-parallel-item::after {content: \"\";width: 100%;border-bottom: 1px solid gray;flex-grow: 1;}#sk-container-id-1 div.sk-label:hover label.sk-toggleable__label {background-color: #d4ebff;}#sk-container-id-1 div.sk-serial::before {content: \"\";position: absolute;border-left: 1px solid gray;box-sizing: border-box;top: 0;bottom: 0;left: 50%;z-index: 0;}#sk-container-id-1 div.sk-serial {display: flex;flex-direction: column;align-items: center;background-color: white;padding-right: 0.2em;padding-left: 0.2em;position: relative;}#sk-container-id-1 div.sk-item {position: relative;z-index: 1;}#sk-container-id-1 div.sk-parallel {display: flex;align-items: stretch;justify-content: center;background-color: white;position: relative;}#sk-container-id-1 div.sk-item::before, #sk-container-id-1 div.sk-parallel-item::before {content: \"\";position: absolute;border-left: 1px solid gray;box-sizing: border-box;top: 0;bottom: 0;left: 50%;z-index: -1;}#sk-container-id-1 div.sk-parallel-item {display: flex;flex-direction: column;z-index: 1;position: relative;background-color: white;}#sk-container-id-1 div.sk-parallel-item:first-child::after {align-self: flex-end;width: 50%;}#sk-container-id-1 div.sk-parallel-item:last-child::after {align-self: flex-start;width: 50%;}#sk-container-id-1 div.sk-parallel-item:only-child::after {width: 0;}#sk-container-id-1 div.sk-dashed-wrapped {border: 1px dashed gray;margin: 0 0.4em 0.5em 0.4em;box-sizing: border-box;padding-bottom: 0.4em;background-color: white;}#sk-container-id-1 div.sk-label label {font-family: monospace;font-weight: bold;display: inline-block;line-height: 1.2em;}#sk-container-id-1 div.sk-label-container {text-align: center;}#sk-container-id-1 div.sk-container {/* jupyter's `normalize.less` sets `[hidden] { display: none; }` but bootstrap.min.css set `[hidden] { display: none !important; }` so we also need the `!important` here to be able to override the default hidden behavior on the sphinx rendered scikit-learn.org. See: https://github.com/scikit-learn/scikit-learn/issues/21755 */display: inline-block !important;position: relative;}#sk-container-id-1 div.sk-text-repr-fallback {display: none;}</style><div id=\"sk-container-id-1\" class=\"sk-top-container\"><div class=\"sk-text-repr-fallback\"><pre>GaussianNB()</pre><b>In a Jupyter environment, please rerun this cell to show the HTML representation or trust the notebook. <br />On GitHub, the HTML representation is unable to render, please try loading this page with nbviewer.org.</b></div><div class=\"sk-container\" hidden><div class=\"sk-item\"><div class=\"sk-estimator sk-toggleable\"><input class=\"sk-toggleable__control sk-hidden--visually\" id=\"sk-estimator-id-1\" type=\"checkbox\" checked><label for=\"sk-estimator-id-1\" class=\"sk-toggleable__label sk-toggleable__label-arrow\">GaussianNB</label><div class=\"sk-toggleable__content\"><pre>GaussianNB()</pre></div></div></div></div></div>"
      ],
      "text/plain": [
       "GaussianNB()"
      ]
     },
     "execution_count": 25,
     "metadata": {},
     "output_type": "execute_result"
    }
   ],
   "source": [
    "#train random forest classifier\n",
    "rf2 = RandomForestClassifier(n_estimators=100, random_state=random_seed)\n",
    "rf2.fit(X_train_features, y_train_features)\n",
    "\n",
    "#train MLP classifier\n",
    "mlp2 = MLPClassifier(hidden_layer_sizes=(100,100), random_state=random_seed)\n",
    "mlp2.fit(X_train_features, y_train_features)\n",
    "\n",
    "#train kNN classifier\n",
    "knn2 = KNeighborsClassifier(n_neighbors=5)\n",
    "knn2.fit(X_train_features, y_train_features)\n",
    "\n",
    "#train naive bayes classifier\n",
    "nb2 = GaussianNB()\n",
    "nb2.fit(X_train_features, y_train_features)"
   ]
  },
  {
   "cell_type": "code",
   "execution_count": 26,
   "metadata": {},
   "outputs": [],
   "source": [
    "# Create a time-series dataframe with test dataset\n",
    "\n",
    "df_test = pd.read_csv('ptbdb_test.csv', header=None)\n",
    "X_test = df_test.iloc[:, :-1]\n",
    "y_test = df_test.iloc[:, -1]\n",
    "melted_df = X_test.melt(var_name='time', value_name='values')\n",
    "melted_df['id'] = melted_df.groupby('time').cumcount()\n",
    "test_timeseries = melted_df[['id', 'time', 'values']]"
   ]
  },
  {
   "cell_type": "code",
   "execution_count": 27,
   "metadata": {},
   "outputs": [
    {
     "name": "stderr",
     "output_type": "stream",
     "text": [
      "Feature Extraction: 100%|██████████| 40/40 [04:02<00:00,  6.07s/it]\n"
     ]
    },
    {
     "name": "stdout",
     "output_type": "stream",
     "text": [
      "Test features shape: (2911, 595)\n"
     ]
    }
   ],
   "source": [
    "extracted_features_test = extract_features(test_timeseries, column_id=\"id\", column_sort=\"time\")\n",
    "test_features_filtered = extracted_features_test.filter(items=features_filtered.columns)\n",
    "impute(test_features_filtered) # Impute nan values\n",
    "print('Test features shape:', test_features_filtered.shape)\n",
    "\n",
    "X_test_features = pd.concat([X_test, test_features_filtered], axis=1)\n",
    "X_test_features.columns = range(X_test_features.shape[1])\n",
    "\n",
    "#normalize X_test_features by column with minmax\n",
    "for column in X_test_features.columns:\n",
    "    X_test_features[column] = (X_test_features[column] - X_test_features[column].min()) / (X_test_features[column].max() - X_test_features[column].min() + 1e-6)\n"
   ]
  },
  {
   "cell_type": "code",
   "execution_count": 28,
   "metadata": {},
   "outputs": [
    {
     "name": "stdout",
     "output_type": "stream",
     "text": [
      "Model: RandomForestClassifier\n",
      "F1 score: 0.9861\n",
      "PR AUC: 0.9980\n",
      "Balanced accuracy: 0.9809\n",
      "ROC AUC: 0.9962\n",
      "------------------------\n",
      "Model: MLPClassifier\n",
      "F1 score: 0.9432\n",
      "PR AUC: 0.9889\n",
      "Balanced accuracy: 0.9268\n",
      "ROC AUC: 0.9749\n",
      "------------------------\n",
      "Model: KNeighborsClassifier\n",
      "F1 score: 0.7136\n",
      "PR AUC: 0.9629\n",
      "Balanced accuracy: 0.7686\n",
      "ROC AUC: 0.9073\n",
      "------------------------\n",
      "Model: GaussianNB\n",
      "F1 score: 0.8587\n",
      "PR AUC: 0.9152\n",
      "Balanced accuracy: 0.7493\n",
      "ROC AUC: 0.8170\n",
      "------------------------\n"
     ]
    }
   ],
   "source": [
    "# Predict probabilities for each classifier\n",
    "y_pred_rf = rf2.predict_proba(X_test_features.values)[:,1]\n",
    "y_pred_mlp = mlp2.predict_proba(X_test_features.values)[:,1]\n",
    "y_pred_knn = knn2.predict_proba(X_test_features.values)[:,1]\n",
    "y_pred_nb = nb2.predict_proba(X_test_features.values)[:,1]\n",
    "\n",
    "models = [rf2, mlp2, knn2, nb2]\n",
    "y_preds = [y_pred_rf, y_pred_mlp, y_pred_knn, y_pred_nb]\n",
    "\n",
    "for model, y_pred in zip(models, y_preds):\n",
    "    f1, pr_auc, balanced_accuracy, roc_auc = performance_metrics(y_test, y_pred)\n",
    "    \n",
    "    print(f'Model: {model.__class__.__name__}')\n",
    "    print(f'F1 score: {f1:.4f}')\n",
    "    print(f'PR AUC: {pr_auc:.4f}')\n",
    "    print(f'Balanced accuracy: {balanced_accuracy:.4f}')\n",
    "    print(f'ROC AUC: {roc_auc:.4f}')\n",
    "    print('------------------------')"
   ]
  },
  {
   "cell_type": "code",
   "execution_count": 29,
   "metadata": {},
   "outputs": [
    {
     "data": {
      "image/png": "[encoded data removed]",
      "text/plain": [
       "<Figure size 640x480 with 1 Axes>"
      ]
     },
     "metadata": {},
     "output_type": "display_data"
    }
   ],
   "source": [
    "# Calculate ROC-AUC for each classifier\n",
    "roc_auc_rf = roc_auc_score(y_test, y_pred_rf)\n",
    "roc_auc_mlp = roc_auc_score(y_test, y_pred_mlp)\n",
    "roc_auc_knn = roc_auc_score(y_test, y_pred_knn)\n",
    "roc_auc_nb = roc_auc_score(y_test, y_pred_nb)\n",
    "\n",
    "#Calculate ROC curves for each classifier\n",
    "fpr_rf, tpr_rf, _ = roc_curve(y_test, y_pred_rf)\n",
    "fpr_mlp, tpr_mlp, _ = roc_curve(y_test, y_pred_mlp)\n",
    "fpr_knn, tpr_knn, _ = roc_curve(y_test, y_pred_knn)\n",
    "fpr_nb, tpr_nb, _ = roc_curve(y_test, y_pred_nb)\n",
    "\n",
    "#plot ROC curves\n",
    "plt.figure()\n",
    "plt.plot(fpr_rf, tpr_rf, label='Random Forest (area = %0.4f)' % roc_auc_rf)\n",
    "plt.plot(fpr_mlp, tpr_mlp, label='MLP (area = %0.4f)' % roc_auc_mlp)\n",
    "plt.plot(fpr_knn, tpr_knn, label='kNN (area = %0.4f)' % roc_auc_knn)\n",
    "plt.plot(fpr_nb, tpr_nb, label='Naive Bayes (area = %0.4f)' % roc_auc_nb)\n",
    "plt.plot([0, 1], [0, 1],'r--')\n",
    "plt.xlim([0.0, 1.0])\n",
    "plt.ylim([0.0, 1.05])\n",
    "plt.xlabel('False Positive Rate')\n",
    "plt.ylabel('True Positive Rate')\n",
    "plt.title('Receiver Operating Characteristic')\n",
    "plt.legend(loc=\"lower right\")\n",
    "plt.show()"
   ]
  },
  {
   "cell_type": "code",
   "execution_count": null,
   "metadata": {},
   "outputs": [],
   "source": []
  }
 ],
 "metadata": {
  "kernelspec": {
   "display_name": "mlhc",
   "language": "python",
   "name": "python3"
  },
  "language_info": {
   "codemirror_mode": {
    "name": "ipython",
    "version": 3
   },
   "file_extension": ".py",
   "mimetype": "text/x-python",
   "name": "python",
   "nbconvert_exporter": "python",
   "pygments_lexer": "ipython3",
   "version": "3.11.9"
  }
 },
 "nbformat": 4,
 "nbformat_minor": 2
}
